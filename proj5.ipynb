{
 "cells": [
  {
   "cell_type": "markdown",
   "id": "cc7d4535",
   "metadata": {},
   "source": [
    "## Problem Set 5: Regular Expressions\n",
    "\n",
    "_csc427, semester 222\n",
    "<br>\n",
    "university of miami\n",
    "<br>\n",
    "date: 23 feb 2022_\n"
   ]
  },
  {
   "cell_type": "markdown",
   "id": "13cf258b",
   "metadata": {},
   "source": [
    "---\n",
    "\n",
    "# Student name: Diep Vu\n",
    "\n",
    "---"
   ]
  },
  {
   "cell_type": "markdown",
   "id": "ab32359c",
   "metadata": {},
   "source": [
    "### Discussion\n",
    "\n",
    "Regular expressions are a usefull programming skill. In this problem set, you will work with the regular expression library provided by Python. Glance through the [Regular Expression documentation](https://docs.python.org/3/library/re.html) at docs.python.org.\n",
    "\n",
    "The regular expression package is imported with the 'import re' statement. The import statement used in this way brings in all the names (the functions) in the package, refered to first by the name 're', such as 're.search()'.\n",
    "\n",
    "The regular expression itself is written using the special symbols,\n",
    "\n",
    "- the star operator is written with a *.\n",
    "- the union operator is written with a |.\n",
    "- parenthesis can be used to group, so that (0|1)* is any string of 0's and 1's, \n",
    "  while 01* would be any string starting with a 0 followed by any number of 1's.\n",
    "- the ^ matches the beginning of the string and $\\$$ matches the end. \n",
    "- for instance,  the regexp 01 searches for 01 anywhere in the string, \n",
    "  the regexp ^01$\\$$ matches only the 2 character sequence 01.\n",
    "- the regular expression language does not have the character for the empty string.\n",
    "  however the ? operator will help you get around this limitation.\n",
    "\n",
    "The regular expression package will turn the regexp into an DFA, so that it can be run on strings. As we now know, it can be a large computation. Therefore the package can compile the the regexp, returning an object of type Pattern, that internal has the DFA to determine whether the string matches the regular expression.\n",
    "\n",
    "\n",
    "\n"
   ]
  },
  {
   "cell_type": "markdown",
   "id": "c27832bb",
   "metadata": {},
   "source": [
    "### Exercise A\n",
    "\n",
    "Following are seven descriptions of regular languages. The first four are given by NFA's, diagramed in the class textbook as machines N1, N2, N3 and N4.\n",
    "\n",
    "The last three are by word descriptions.\n",
    "\n",
    "Please provide python regular expressions that match for exactly the same langage.\n",
    "\n",
    "With each language is a test vector giving a list of strings in the language and strings not in the language, to help your testing. The basic test is according to these strings; an extended test will be more extensive.\n",
    "\n",
    "When testing, it is best to consider \"typical\" cases to be begin with, but then \"edge cases\" to refine your understanding of the problem.\n",
    "\n"
   ]
  },
  {
   "cell_type": "code",
   "execution_count": 100,
   "id": "00041f01",
   "metadata": {},
   "outputs": [],
   "source": [
    "# sipser N1: accepts all strings that contain either 101 or 11 as a substring.\n",
    "\n",
    "N1_regexp = '(0|1)*(101|11)(0|1)*'\n",
    "N1_test = (['101','11','1101','0110','1011','00011','010110','101000','10001100011'],['','1','0','10','01','00100','010010','100010010001'])\n",
    "\n",
    "\n",
    "# sipser N2: accepts all strings containing a 1 in the third position from the end\n",
    "N2_regexp = '(0|1)*1(0|1)(0|1)$'\n",
    "N2_test = (['100','111','0111','1111','00100','10110100','1010101','0000110'],['','1','0','011','1011','101010','10','1001','00001101011'])\n",
    "\n",
    "\n",
    "# sipser N3: accepts all strings of 0's of length k where k is a multiple of 2 or 3\n",
    "N3_regexp = '^((00)*)$|^((000)*)$'\n",
    "N3_test = (['','00','000','0000','000000','000000000'],['0','00000','0000000','00000000000','0000000000000'])\n",
    "\n",
    "\n",
    "# sipser N4: accepts all strings in (a | ba*(a|b)a )*\n",
    "N4_regexp = '^(a|ba*(a|b)a)*$'\n",
    "N4_test = (['','a','aa','aaabaabaa','bbaaaabba','baaaba','baba','baa'],['aaab','ababab','babbaa','b','bb','babba'])\n",
    "\n",
    "# strings over {a, b, c} where all a's occur before any b, all b's occur before any c.\n",
    "abc_regexp = '^a*b*c*$'\n",
    "abc_test = (['abc','aac','bbc','c','aaabbc','bbcc','ac','b','a'],['ba','ca','abca','cb','ccba','aaacb','bbac'])\n",
    "\n",
    "# over {0,1} there string 11 does not appear as a substring\n",
    "not11_regexp = '^1?(01|0)*$'\n",
    "not11_test = (['1','01','0010','101','10','0101','01000101','0100101','100010100'],['11','110','011','0110','1011','1100','010111','0110101','0100011010'])\n",
    "\n",
    "# over {0,1} that do not contain  101 as a substring\n",
    "not101_regexp = '^0*(1|00+)*0*$'\n",
    "not101_test = (['1','01','10','110','0010','111','1001','1100111','000100110'],['101','0101','1011','00101001','101011','11101010','10010100','101010110'])\n"
   ]
  },
  {
   "cell_type": "markdown",
   "id": "e12dfb30",
   "metadata": {},
   "source": [
    "## Basic tests\n",
    "\n",
    "Theses routines serve two functions. First they apply the regular expressions to the test vectors to see if the regular expression works correctly on the strings in the test vector.\n",
    "\n",
    "It also demonstrates the code that is used inorder to use the re package in Python."
   ]
  },
  {
   "cell_type": "code",
   "execution_count": 101,
   "id": "e818fcf3",
   "metadata": {},
   "outputs": [
    {
     "name": "stdout",
     "output_type": "stream",
     "text": [
      "*** testing Sipser N1\n",
      "\t9 correctly accepted out of 9 strings\n",
      "\t8 correctly rejected out of 8 strings\n",
      "*** PASSES\n",
      "\n",
      "*** testing Sipser N2\n",
      "\t8 correctly accepted out of 8 strings\n",
      "\t9 correctly rejected out of 9 strings\n",
      "*** PASSES\n",
      "\n",
      "*** testing Sipser N3\n",
      "\t6 correctly accepted out of 6 strings\n",
      "\t5 correctly rejected out of 5 strings\n",
      "*** PASSES\n",
      "\n",
      "*** testing Sipser N4\n",
      "\t8 correctly accepted out of 8 strings\n",
      "\t6 correctly rejected out of 6 strings\n",
      "*** PASSES\n",
      "\n",
      "*** testing abc\n",
      "\t9 correctly accepted out of 9 strings\n",
      "\t7 correctly rejected out of 7 strings\n",
      "*** PASSES\n",
      "\n",
      "*** testing not11\n",
      "\t9 correctly accepted out of 9 strings\n",
      "\t9 correctly rejected out of 9 strings\n",
      "*** PASSES\n",
      "\n",
      "*** testing not101\n",
      "\t9 correctly accepted out of 9 strings\n",
      "\t8 correctly rejected out of 8 strings\n",
      "*** PASSES\n",
      "\n",
      "7 correct out of 7\n",
      "*** congratulations you passed all tests\n"
     ]
    },
    {
     "data": {
      "text/plain": [
       "True"
      ]
     },
     "execution_count": 101,
     "metadata": {},
     "output_type": "execute_result"
    }
   ],
   "source": [
    "import re\n",
    "\n",
    "class RegExp_Test:\n",
    "    \n",
    "    def __init__(self, name, regexp):\n",
    "        self.re_pat= re.compile(regexp)\n",
    "        self.name = name\n",
    "        \n",
    "    def test(self, test_vect, verbose=False):\n",
    "        tv_true, tv_false = test_vect\n",
    "        correct = 0 \n",
    "\n",
    "        print(f'*** testing {self.name}')\n",
    "        for string in tv_true:\n",
    "            if re.search(self.re_pat,string):\n",
    "                correct += 1\n",
    "            else:\n",
    "                print(f'should accept but does not: |{string}| ')\n",
    "        print(f'\\t{correct} correctly accepted out of {len(tv_true)} strings')\n",
    "        passed = correct == len(tv_true)\n",
    "\n",
    "        correct = 0 \n",
    "        for string in tv_false:\n",
    "            if not re.search(self.re_pat,string):\n",
    "                correct += 1\n",
    "            else:\n",
    "                print(f'should reject but does not: |{string}| ')\n",
    "        print(f'\\t{correct} correctly rejected out of {len(tv_false)} strings')\n",
    " \n",
    "        passed = passed and (correct == len(tv_false))\n",
    "        if passed:\n",
    "            print(f'*** PASSES\\n')\n",
    "        else:\n",
    "            print(f'*** FAILS\\n')\n",
    "        return passed\n",
    "\n",
    "# end class RegExp_Test\n",
    "\n",
    "\n",
    "def basic_test(test_bundle):\n",
    "\n",
    "    correct = 0 \n",
    "    for test in test_bundle:\n",
    "        desc ,reg_exp, test_v = test\n",
    "        regexp = RegExp_Test(desc,reg_exp)\n",
    "        if regexp.test(test_v):\n",
    "            correct += 1\n",
    "    print(f'{correct} correct out of {len(test_bundle)}')\n",
    "    res = (correct == len(test_bundle))\n",
    "    if res:\n",
    "        print(f'*** congratulations you passed all tests')\n",
    "    return res\n",
    "\n",
    "\n",
    "all_tests = [\n",
    "    ['Sipser N1', N1_regexp, N1_test ],\n",
    "    ['Sipser N2', N2_regexp, N2_test],\n",
    "    ['Sipser N3', N3_regexp, N3_test],\n",
    "    ['Sipser N4', N4_regexp, N4_test],\n",
    "    ['abc', abc_regexp, abc_test ],\n",
    "    ['not11', not11_regexp, not11_test ],\n",
    "    ['not101', not101_regexp, not101_test ]\n",
    "]\n",
    "\n",
    "basic_test(all_tests)"
   ]
  },
  {
   "cell_type": "markdown",
   "id": "b677e0b6",
   "metadata": {},
   "source": [
    "### End of assigment\n"
   ]
  }
 ],
 "metadata": {
  "kernelspec": {
   "display_name": "Python 3 (ipykernel)",
   "language": "python",
   "name": "python3"
  },
  "language_info": {
   "codemirror_mode": {
    "name": "ipython",
    "version": 3
   },
   "file_extension": ".py",
   "mimetype": "text/x-python",
   "name": "python",
   "nbconvert_exporter": "python",
   "pygments_lexer": "ipython3",
   "version": "3.9.7"
  }
 },
 "nbformat": 4,
 "nbformat_minor": 5
}
